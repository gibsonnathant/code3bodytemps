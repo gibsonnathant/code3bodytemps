{
 "cells": [
  {
   "cell_type": "code",
   "execution_count": 4,
   "id": "50f799e3",
   "metadata": {},
   "outputs": [],
   "source": [
    "# celsius to fahrenheit\n",
    "def celsius_to_fahrenheit(celsius):\n",
    "    return (celsius * (9/5)) + 32\n",
    "\n",
    "# fahrenheit to celsius\n",
    "def fahrenheit_to_celsius(fahrenheit):\n",
    "    return (fahrenheit - 32) * (5/9)"
   ]
  },
  {
   "cell_type": "code",
   "execution_count": 7,
   "id": "39e787e8",
   "metadata": {},
   "outputs": [
    {
     "name": "stdout",
     "output_type": "stream",
     "text": [
      "Choose the conversion direction.\n",
      "Put 'c' for Celsius to Fahrenheit or 'f' for Fahrenheit to Celsius.\n",
      "Enter your choice: F   \n",
      "Enter the temperature: 98.6\n",
      "98.6 degrees Fahrenheit is 37.0 degrees Celsius\n"
     ]
    }
   ],
   "source": [
    "# setting dictionary to mapping the user input to the function\n",
    "conversion_features = {\n",
    "    'c': celsius_to_fahrenheit,\n",
    "    'f': fahrenheit_to_celsius\n",
    "}\n",
    "\n",
    "print(\"Choose the conversion direction.\")\n",
    "print(\"Put 'c' for Celsius to Fahrenheit or 'f' for Fahrenheit to Celsius.\")\n",
    "\n",
    "choice = input(\"Enter your choice: \").strip().lower()\n",
    "\n",
    "if choice in conversion_features:\n",
    "    temperature = float(input(\"Enter the temperature: \"))\n",
    "    \n",
    "    # conversion\n",
    "    converted_temperature = conversion_features[choice](temperature)\n",
    "    \n",
    "    print(f\"{temperature} degrees {'Celsius' if choice == 'c' else 'Fahrenheit'} is {converted_temperature} degrees {'Fahrenheit' if choice == 'c' else 'Celsius'}\")\n",
    "else:\n",
    "    print(\"This is not a valid input. Please enter C or F.\")"
   ]
  },
  {
   "cell_type": "code",
   "execution_count": null,
   "id": "f20b25f8",
   "metadata": {},
   "outputs": [],
   "source": []
  },
  {
   "cell_type": "code",
   "execution_count": null,
   "id": "82b8bea1",
   "metadata": {},
   "outputs": [],
   "source": []
  }
 ],
 "metadata": {
  "kernelspec": {
   "display_name": "Python 3 (ipykernel)",
   "language": "python",
   "name": "python3"
  },
  "language_info": {
   "codemirror_mode": {
    "name": "ipython",
    "version": 3
   },
   "file_extension": ".py",
   "mimetype": "text/x-python",
   "name": "python",
   "nbconvert_exporter": "python",
   "pygments_lexer": "ipython3",
   "version": "3.10.9"
  }
 },
 "nbformat": 4,
 "nbformat_minor": 5
}
